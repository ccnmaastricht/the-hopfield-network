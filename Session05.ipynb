{
 "cells": [
  {
   "cell_type": "markdown",
   "metadata": {},
   "source": [
    "# Session 5: The Hopfield network"
   ]
  },
  {
   "cell_type": "code",
   "execution_count": null,
   "metadata": {},
   "outputs": [],
   "source": [
    "import numpy as np\n",
    "import matplotlib.pyplot as plt\n",
    "from copy import copy"
   ]
  },
  {
   "cell_type": "markdown",
   "metadata": {},
   "source": [
    "## About this tutorial\n",
    "In this tutorial, you will explore the discrete and continuous Hopfield network. This tutorial constitutes your third formative assessment and you have time to finish it until 6pm on October 11. A solution will become available after that deadline.\n",
    "\n",
    "## Task 1 - Imprinting memories (10 points)\n",
    "Generate $M=5$ patterns where each pattern $\\mu$ is a string of $\\mu$ binary numbers $\\left\\lbrace p_i^{\\mu } =\\pm 1;1\\le i\\le N\\right\\rbrace$ with expected value $\\left\\langle p_i^{\\mu } \\right\\rangle =0$; i.e., $P(p^{\\mu}_i = 1) = P(p^{\\mu}_i = -1) = 0.5$. "
   ]
  },
  {
   "cell_type": "code",
   "execution_count": null,
   "metadata": {},
   "outputs": [],
   "source": []
  },
  {
   "cell_type": "markdown",
   "metadata": {},
   "source": [
    "Store these patterns in a weight matrix $\\mathbf{W}$ whose elements are given by\n",
    "\n",
    "$$\n",
    "w_{ij}=\\frac{1}{N}\\sum_{\\mu=1}^Mp^{\\mu}_ip^{\\mu}_j\n",
    "$$"
   ]
  },
  {
   "cell_type": "code",
   "execution_count": null,
   "metadata": {},
   "outputs": [],
   "source": []
  },
  {
   "cell_type": "markdown",
   "metadata": {},
   "source": [
    "## Task 2 - Energy & memory recall (40 points)\n",
    "Generate a cue for pattern $\\mu = 3$ and use it to intialize the network state $S_0$. The cue should be such that the overlap between $S_0$ and p^{\\mu=3} is equal to $\\sim0.5$."
   ]
  },
  {
   "cell_type": "code",
   "execution_count": null,
   "metadata": {},
   "outputs": [],
   "source": []
  },
  {
   "cell_type": "markdown",
   "metadata": {},
   "source": [
    "Let the Hopfield network evolve for $500$ iterations and record both the overlap between p^{\\mu=3} and the current state $s$ as well as the energy for each iteration. Use an asynchronous updating scheme: in each iteration update only a single, randomly selected, unit according to\n",
    "\n",
    "$$\n",
    "s_i =\\mathrm{sgn}\\left\\lbrack \\sum_{j=1}^N w_{\\mathrm{ij}} s_j -\\theta \\right\\rbrack\n",
    "$$"
   ]
  },
  {
   "cell_type": "code",
   "execution_count": null,
   "metadata": {},
   "outputs": [],
   "source": [
    "theta = 0              # threshold\n",
    "\n",
    "iterations = 500\n",
    "energy = np.zeros(iterations)\n",
    "overlap = np.zeros(iterations)\n",
    "\n",
    "S = copy(S0)\n",
    "\n",
    "'''\n",
    "Write your code here\n",
    "'''\n",
    "\n",
    "\n",
    "# plotting\n",
    "plt.figure()\n",
    "plt.subplot(1,2,1)\n",
    "plt.plot(energy)\n",
    "plt.title('energy')\n",
    "plt.xlabel('iteration')\n",
    "\n",
    "plt.subplot(1,2,2)\n",
    "plt.plot(overlap)\n",
    "plt.title('overlap')\n",
    "plt.xlabel('iteration')"
   ]
  },
  {
   "cell_type": "markdown",
   "metadata": {},
   "source": [
    "**Question**: What happens with energy and overlap as you change the threshold? How does this depend on pattern 3?"
   ]
  },
  {
   "cell_type": "markdown",
   "metadata": {},
   "source": [
    "# Task 3 - Perturbing memories (50 points)\n",
    "Using the continuous Hopfield network $\\tau \\dot s_i = -s_i +g\\left( \\sum_{j}w_{ij}s_j- \\theta + C\\right)$, where $\\tau$ is a time constant, $g\\left(\\cdot \\right)$ is an activation function and $C$ is a cue pattern, you can now explore what happens if a cue is presented briefly when the network is in the ground state $\\left(s_i =0,\\forall i\\in N\\right)$ as compared to when the network has already recalled a memory. Assume that time is in milliseconds.\n",
    "\n",
    "## Network simulation\n",
    "1. Simulate the network for $50$ms without any cue; $\\left(C_i =0,\\forall i\\in N\\right)$\n",
    "2. Present a cue for $\\mu = 3$ with an overlap of $\\sim 0.5$ for a short amount of time\n",
    "3. Simulate the network for another $50$ms after the cue has been removed\n",
    "4. Present a cue for $\\mu = 3$ with an overlap of $\\sim 0.5$ for a short amount of time\n",
    "5. Simulate the network for another $50$ms after the cue has been removed\n",
    "\n",
    "Continuously measure the overlap between the evolving state $s$ and all patterns $p^{\\mu}$. Use a time step $\\Delta t=0\\ldotp 001\\mathrm{ms}$, a time constant of $\\tau=1\\mathrm{ms}$ and $\\theta =0$."
   ]
  },
  {
   "cell_type": "code",
   "execution_count": null,
   "metadata": {},
   "outputs": [],
   "source": [
    "g = lambda x: np.tanh(1.5 * x)\n",
    "theta = 0\n",
    "tau = 1\n",
    "dt = 1e-3\n",
    "\n",
    "t_on = 2.5     # cue presentation time (ms)\n",
    "t_off = 50\n",
    "\n",
    "'''\n",
    "Write your code here\n",
    "'''\n",
    "\n",
    "# plotting\n",
    "plt.figure()\n",
    "plt.plot(T,overlap)\n",
    "plt.xlabel('time (ms)')\n",
    "plt.ylabel('overlap')"
   ]
  },
  {
   "cell_type": "markdown",
   "metadata": {},
   "source": [
    "**Question**: How does the time for which the cue is shown affect memory retrieval before and after a previous retrieval of another memory?"
   ]
  }
 ],
 "metadata": {
  "kernelspec": {
   "display_name": "Python 3 (ipykernel)",
   "language": "python",
   "name": "python3"
  },
  "language_info": {
   "codemirror_mode": {
    "name": "ipython",
    "version": 3
   },
   "file_extension": ".py",
   "mimetype": "text/x-python",
   "name": "python",
   "nbconvert_exporter": "python",
   "pygments_lexer": "ipython3",
   "version": "3.8.13"
  }
 },
 "nbformat": 4,
 "nbformat_minor": 4
}
